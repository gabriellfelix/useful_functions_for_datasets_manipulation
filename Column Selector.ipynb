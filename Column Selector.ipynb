{
 "cells": [
  {
   "cell_type": "code",
   "execution_count": 1,
   "id": "57671784",
   "metadata": {},
   "outputs": [],
   "source": [
    "from sklearn.base import BaseEstimator, TransformerMixin\n",
    "\n",
    "class ColumnSelector(BaseEstimator, TransformerMixin):\n",
    "    \n",
    "#   Construtor recebe o tipo desejado do atributo  \n",
    "    def __init__(self, type):\n",
    "        self.type = type\n",
    "    \n",
    "    def fit(self, X, y=None):\n",
    "        return self\n",
    "      \n",
    "#   Retorna o(s) valor(es) correspondente(s) da(s) coluna(s) selecionada(s)      \n",
    "    def transform(self,X):\n",
    "        return X.select_dtypes(include=[self.type])"
   ]
  }
 ],
 "metadata": {
  "kernelspec": {
   "display_name": "Python 3 (ipykernel)",
   "language": "python",
   "name": "python3"
  },
  "language_info": {
   "codemirror_mode": {
    "name": "ipython",
    "version": 3
   },
   "file_extension": ".py",
   "mimetype": "text/x-python",
   "name": "python",
   "nbconvert_exporter": "python",
   "pygments_lexer": "ipython3",
   "version": "3.9.12"
  }
 },
 "nbformat": 4,
 "nbformat_minor": 5
}
