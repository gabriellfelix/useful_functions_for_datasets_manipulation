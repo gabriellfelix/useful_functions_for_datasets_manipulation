{
 "cells": [
  {
   "cell_type": "code",
   "execution_count": 1,
   "id": "841fc446",
   "metadata": {},
   "outputs": [],
   "source": [
    "import os\n",
    "import requests\n",
    "import io\n",
    "\n",
    "def load_dataset(path,urls):\n",
    "#   Se o diretório recebido por parâmetro não existir, ele será criado\n",
    "    if not os.path.exists(path):\n",
    "        os.mkdir(path)\n",
    "        \n",
    "#   Para cada URL recebida por parâmetro, recebe o seu conteúdo e o escreve num arquivo criado no diretório\n",
    "    for url in urls:\n",
    "        data = requests.get(url).content\n",
    "        filename = os.path.join(path, os.path.basename(url))\n",
    "        with open(filename, \"wb\") as file:\n",
    "            file.write(data)"
   ]
  }
 ],
 "metadata": {
  "kernelspec": {
   "display_name": "Python 3 (ipykernel)",
   "language": "python",
   "name": "python3"
  },
  "language_info": {
   "codemirror_mode": {
    "name": "ipython",
    "version": 3
   },
   "file_extension": ".py",
   "mimetype": "text/x-python",
   "name": "python",
   "nbconvert_exporter": "python",
   "pygments_lexer": "ipython3",
   "version": "3.9.12"
  }
 },
 "nbformat": 4,
 "nbformat_minor": 5
}
