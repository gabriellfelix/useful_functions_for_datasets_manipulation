{
 "cells": [
  {
   "cell_type": "code",
   "execution_count": 1,
   "id": "2a91c3c7",
   "metadata": {},
   "outputs": [
    {
     "name": "stderr",
     "output_type": "stream",
     "text": [
      "<>:15: SyntaxWarning: \"is\" with a literal. Did you mean \"==\"?\n",
      "<>:15: SyntaxWarning: \"is\" with a literal. Did you mean \"==\"?\n",
      "C:\\Users\\gabriel.felix\\AppData\\Local\\Temp\\ipykernel_14444\\2701077663.py:15: SyntaxWarning: \"is\" with a literal. Did you mean \"==\"?\n",
      "  if self.strategy is 'most_frequent':\n"
     ]
    }
   ],
   "source": [
    "from sklearn.base import BaseEstimator, TransformerMixin\n",
    "\n",
    "class CategoricalImputer(BaseEstimator, TransformerMixin):\n",
    "    \n",
    "    def __init__(self, columns=None, strategy='most_frequent'):\n",
    "        self.columns = columns\n",
    "        self.strategy = strategy\n",
    "        \n",
    "    def fit(self, X, y=None):\n",
    "#       Se a instância não houver colunas, atribui a ela as colunas passadas como parâmetro na função fit  \n",
    "        if self.columns is None:\n",
    "            self.columns = X.columns\n",
    "    \n",
    "#       Se a estratégia da instância for 'most_frequent' (moda), preenche uma lista (fill) com o valor de maior frequência de cada coluna\n",
    "        if self.strategy is 'most_frequent':\n",
    "            self.fill = {column: X[column].value_counts().index[0] for column in self.columns}\n",
    "\n",
    "        return self\n",
    "     \n",
    "    def transform(self,X):\n",
    "#       Faz uma cópia do dataset e preenche os valores faltantes de cada coluna com o respectivo valor contido na lista 'fill'  \n",
    "        x_copy = X.copy()\n",
    "        for column in self.columns:\n",
    "            x_copy[column] = x_copy[column].fillna(self.fill[column])\n",
    "            \n",
    "        return x_copy"
   ]
  }
 ],
 "metadata": {
  "kernelspec": {
   "display_name": "Python 3 (ipykernel)",
   "language": "python",
   "name": "python3"
  },
  "language_info": {
   "codemirror_mode": {
    "name": "ipython",
    "version": 3
   },
   "file_extension": ".py",
   "mimetype": "text/x-python",
   "name": "python",
   "nbconvert_exporter": "python",
   "pygments_lexer": "ipython3",
   "version": "3.9.12"
  }
 },
 "nbformat": 4,
 "nbformat_minor": 5
}
