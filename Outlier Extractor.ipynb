{
 "cells": [
  {
   "cell_type": "code",
   "execution_count": 2,
   "id": "d8538cde",
   "metadata": {},
   "outputs": [],
   "source": [
    "from sklearn.pipeline import TransformerMixin\n",
    "from scipy.spatial.distance import cdist\n",
    "import numpy as np\n",
    "\n",
    "class OutlierExtractor(TransformerMixin):\n",
    "    def __init__(self, threshold=3, columns=None):\n",
    "        self.threshold = threshold\n",
    "        self.columns = columns\n",
    "        \n",
    "        \n",
    "    def fit(self, X, y=None):\n",
    "        self.outliers_zscore = dict()\n",
    "        if self.columns is None:\n",
    "            self.columns = X.columns\n",
    "            \n",
    "        for column in self.columns:\n",
    "            x = np.asarray(X[column]).reshape(-1,1)\n",
    "            std = np.std(x)\n",
    "            self.outliers_zscore[column] = (np.abs(cdist(x.mean(axis=0)[np.newaxis], x) / std)[0])\n",
    "            \n",
    "        return self\n",
    "    \n",
    "    \n",
    "    def transform(self, X):\n",
    "        pos_outliers = []\n",
    "        pos_outliers = np.array(pos_outliers)\n",
    "        \n",
    "        for column in self.columns:\n",
    "            pos_outliers = np.concatenate((np.where(self.outliers_zscore[column] > self.threshold), pos_outliers), axis=None)\n",
    "            \n",
    "        return X.drop(set(pos_outliers), inplace=False)"
   ]
  }
 ],
 "metadata": {
  "kernelspec": {
   "display_name": "Python 3 (ipykernel)",
   "language": "python",
   "name": "python3"
  },
  "language_info": {
   "codemirror_mode": {
    "name": "ipython",
    "version": 3
   },
   "file_extension": ".py",
   "mimetype": "text/x-python",
   "name": "python",
   "nbconvert_exporter": "python",
   "pygments_lexer": "ipython3",
   "version": "3.9.12"
  }
 },
 "nbformat": 4,
 "nbformat_minor": 5
}
