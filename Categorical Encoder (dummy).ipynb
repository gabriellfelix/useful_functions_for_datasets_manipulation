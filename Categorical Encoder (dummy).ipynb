{
 "cells": [
  {
   "cell_type": "code",
   "execution_count": 1,
   "id": "bfdbf139",
   "metadata": {},
   "outputs": [],
   "source": [
    "from sklearn.base import BaseEstimator, TransformerMixin\n",
    "\n",
    "class CategoricalEncoder(BaseEstimator, TransformerMixin):\n",
    "    \n",
    "    def __init__(self, dropFirst=True):\n",
    "        self.categories = dict()\n",
    "        self.dropFirst = dropFirst\n",
    "        \n",
    "    def fit(self, X, y=None):\n",
    "#       Concatena os dataframes de treino e teste  \n",
    "        join_df = pd.concat([train_data, test_data])\n",
    "#       Obtém apenas as colunas categóricas\n",
    "        join_df = join_df.select_dtypes(include=['object'])\n",
    "#       Adiciona cada coluna categórica ao dicionário 'categories' com o nome da coluna como chave e uma lista com os índices dos valores da coluna como valor\n",
    "        for column in join_df.columns:\n",
    "            self.categories[column] = join_df[column].value_counts().index.tolist()\n",
    "            \n",
    "        return self\n",
    "    \n",
    "    def transform(self, X):\n",
    "#       Faz uma cópia do dataset e obtém apenas as colunas categóricas  \n",
    "        x_copy = X.copy()\n",
    "        x_copy = x_copy.select_dtypes(include=['object'])\n",
    "#       Converte o tipo da coluna para respectivo tipo do valor armazenado no dicionário 'categories'  \n",
    "        for column in x_copy.columns:\n",
    "            x_copy[column] = x_copy[column].astype({column: CategoricalDtype(self.categories[column])})\n",
    "            \n",
    "#       Converte e retorna os atributos categóricos em indicadores (dummy) do dataframe cópia      \n",
    "        return pd.get_dummies(x_copy, drop_first=self.dropFirst)"
   ]
  }
 ],
 "metadata": {
  "kernelspec": {
   "display_name": "Python 3 (ipykernel)",
   "language": "python",
   "name": "python3"
  },
  "language_info": {
   "codemirror_mode": {
    "name": "ipython",
    "version": 3
   },
   "file_extension": ".py",
   "mimetype": "text/x-python",
   "name": "python",
   "nbconvert_exporter": "python",
   "pygments_lexer": "ipython3",
   "version": "3.9.12"
  }
 },
 "nbformat": 4,
 "nbformat_minor": 5
}
